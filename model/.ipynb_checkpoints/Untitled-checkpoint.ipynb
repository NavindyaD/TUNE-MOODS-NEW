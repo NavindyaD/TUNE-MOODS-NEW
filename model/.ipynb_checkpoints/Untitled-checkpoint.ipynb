{
 "cells": [
  {
   "cell_type": "code",
   "execution_count": null,
   "id": "3c56ad92-6781-4ed2-bf68-b199f7801bab",
   "metadata": {},
   "outputs": [],
   "source": [
    "import os\n",
    "import cv2\n",
    "import numpy as np \n",
    "import matplotlib.pyplot as plt\n",
    "import tensorflow as tf\n",
    "from PIL import Image\n",
    "from tensorflow.keras.layers import Dense, Conv2D, MaxPool2D, Flatten, Dropout, GlobalAveragePooling2D, BatchNormalization\n",
    "from tensorflow.keras.models import Sequential, Model\n",
    "from tensorflow.keras.optimizers import Adam\n",
    "from tensorflow.keras.preprocessing.image import ImageDataGenerator\n",
    "from tensorflow.keras.applications.resnet import preprocess_input\n",
    "from sklearn.metrics import accuracy_score, confusion_matrix, classification_report, ConfusionMatrixDisplay"
   ]
  },
  {
   "cell_type": "code",
   "execution_count": null,
   "id": "22a7c10c-7935-4ada-8d6f-d4cc503a52e7",
   "metadata": {},
   "outputs": [],
   "source": [
    "# Create a dictionary of images\n",
    "d = {}\n",
    "train_path = \"D:/Faces/train\"\n",
    "for folder in sorted(os.listdir(train_path)): \n",
    "    folder_path = os.path.join(train_path, folder)\n",
    "    d[folder] = []\n",
    "    for image in os.listdir(folder_path)[:5]:  # Load only the first 5 images for visualization\n",
    "        image_path = os.path.join(folder_path, image)\n",
    "        image = np.array(Image.open(image_path))\n",
    "        d[folder].append(image)\n",
    "\n"
   ]
  },
  {
   "cell_type": "code",
   "execution_count": null,
   "id": "c98a13df-7ad9-43b5-b416-2953fa613ec2",
   "metadata": {},
   "outputs": [],
   "source": [
    "# Function to plot images\n",
    "def plot_images(d, label): \n",
    "    fig, ax = plt.subplots(1, 5, figsize=(10, 2))\n",
    "    fig.suptitle('Images labelled: {}'.format(label), fontsize=11)\n",
    "    for col in range(5): \n",
    "        ax[col].imshow(d[label][col])\n",
    "        ax[col].tick_params(axis='both', which='both', bottom=False, left=False, top=False, labelbottom=False, labelleft=False)\n"
   ]
  },
  {
   "cell_type": "code",
   "execution_count": null,
   "id": "1e0951d6-8cd7-418c-8f70-0eb03f28c086",
   "metadata": {},
   "outputs": [],
   "source": [
    "# Plot example images\n",
    "for key in d.keys():\n",
    "    plot_images(d, key)\n",
    "\n",
    "# Data augmentation for training and validation sets\n",
    "train_aug = ImageDataGenerator(\n",
    "    preprocessing_function=preprocess_input,\n",
    "    rotation_range=25, width_shift_range=0.1,\n",
    "    height_shift_range=0.1, shear_range=0.2, \n",
    "    zoom_range=0.2, horizontal_flip=True, \n",
    "    fill_mode=\"nearest\"\n",
    ")\n",
    "val_aug = ImageDataGenerator(\n",
    "    preprocessing_function=preprocess_input\n",
    ")\n",
    "\n"
   ]
  },
  {
   "cell_type": "code",
   "execution_count": null,
   "id": "73c07a3c-d4b0-4e6e-8dea-f296b26cd147",
   "metadata": {},
   "outputs": [],
   "source": [
    "# Loading the training and validation data\n",
    "train_data = train_aug.flow_from_directory(\n",
    "    train_path,\n",
    "    target_size=(48, 48),\n",
    "    shuffle=True\n",
    ")\n",
    "\n",
    "val_data = val_aug.flow_from_directory(\n",
    "    \"D:/Faces/validation\",\n",
    "    target_size=(48, 48),\n",
    "    shuffle=False  # Don't shuffle validation data\n",
    ")\n"
   ]
  },
  {
   "cell_type": "code",
   "execution_count": null,
   "id": "002e7ae8-6ca7-4b46-b64a-5c504270f087",
   "metadata": {},
   "outputs": [],
   "source": [
    "# Define the model architecture\n",
    "def create_model():\n",
    "    model = Sequential()\n",
    "    model.add(Conv2D(64, (3, 3), padding=\"same\", activation=\"relu\", input_shape=(48, 48, 3)))\n",
    "    model.add(BatchNormalization())\n",
    "    model.add(Conv2D(64, (3, 3), activation=\"relu\", padding=\"same\"))\n",
    "    model.add(BatchNormalization())\n",
    "    model.add(Conv2D(64, (3, 3), activation=\"relu\", padding=\"same\"))\n",
    "    \n",
    "    model.add(MaxPool2D(2, 2))\n",
    "    model.add(Conv2D(128, (3, 3), activation=\"relu\", padding=\"same\"))\n",
    "    model.add(BatchNormalization())\n",
    "    model.add(Conv2D(128, (3, 3), activation=\"relu\", padding=\"same\"))\n",
    "    model.add(BatchNormalization())\n",
    "    model.add(Conv2D(128, (3, 3), activation=\"relu\", padding=\"same\"))\n",
    "    model.add(MaxPool2D(2, 2))\n",
    "    model.add(Conv2D(256, (3, 3), activation=\"relu\", padding=\"same\"))\n",
    "    model.add(BatchNormalization())\n",
    "    model.add(Conv2D(256, (3, 3), activation=\"relu\", padding=\"same\"))\n",
    "    model.add(BatchNormalization())\n",
    "    model.add(Conv2D(256, (3, 3), activation=\"relu\", padding=\"same\"))\n",
    "    model.add(MaxPool2D(2, 2))\n",
    "  \n",
    "    model.add(Flatten())\n",
    "    model.add(Dense(256, activation='relu'))\n",
    "    model.add(BatchNormalization())\n",
    "    model.add(Dropout(0.5))\n",
    "    model.add(Dense(128, activation='relu'))\n",
    "    model.add(Dense(7, activation='softmax'))  # Assuming 7 classes for classification\n",
    "    return model\n",
    "\n"
   ]
  },
  {
   "cell_type": "code",
   "execution_count": null,
   "id": "f4c2949e-34f9-4791-a8a8-fb2336f1b84f",
   "metadata": {},
   "outputs": [],
   "source": [
    "# Initialize and compile the model\n",
    "model = create_model()\n",
    "model.compile(\n",
    "    optimizer=Adam(learning_rate=0.001),\n",
    "    loss=\"categorical_crossentropy\",\n",
    "    metrics=[\"accuracy\"]\n",
    ")\n",
    "model.summary()\n",
    "\n",
    "# Train the model\n",
    "history = model.fit(train_data, epochs=50, validation_data=val_data)\n"
   ]
  },
  {
   "cell_type": "code",
   "execution_count": null,
   "id": "7cf863fd-0e15-4b0f-ab6d-8f57a0d834a9",
   "metadata": {},
   "outputs": [],
   "source": [
    "# Save the model in the HDF5 format\n",
    "model.save('my_cnn_model.h5')\n"
   ]
  },
  {
   "cell_type": "code",
   "execution_count": null,
   "id": "81003b8d-d179-442a-8b6a-9a56adffe9d7",
   "metadata": {},
   "outputs": [],
   "source": [
    "# Final training accuracy (after the last epoch)\n",
    "final_train_accuracy = history.history['accuracy'][-1]  # Last training accuracy\n",
    "final_val_accuracy = history.history['val_accuracy'][-1]  # Last validation accuracy\n",
    "\n",
    "# Print the results\n",
    "print(f\"Final Training Accuracy: {final_train_accuracy * 100:.2f}%\")\n",
    "print(f\"Final Validation Accuracy (Model Accuracy): {final_val_accuracy * 100:.2f}%\")\n"
   ]
  },
  {
   "cell_type": "code",
   "execution_count": null,
   "id": "a6d35c09-6f81-4b76-97f8-af6b93fc24a7",
   "metadata": {},
   "outputs": [],
   "source": [
    "# Save the model in the Keras format\n",
    "model.save('my_cnn_model.keras')  # Saves the entire model\n"
   ]
  },
  {
   "cell_type": "code",
   "execution_count": null,
   "id": "9e86c71a-3efa-4299-8709-7e8c3633f5ff",
   "metadata": {},
   "outputs": [],
   "source": [
    "# Evaluate the model on the validation data\n",
    "val_labels = val_data.classes  # True labels for validation data\n",
    "predictions = model.predict(val_data)  # Predicted labels for validation data\n",
    "predicted_labels = np.argmax(predictions, axis=1)  # Convert softmax output to class labels\n",
    "\n",
    "# Calculate accuracy\n",
    "accuracy = accuracy_score(val_labels, predicted_labels)\n",
    "print(f\"Validation Accuracy: {accuracy * 100:.2f}%\")\n"
   ]
  },
  {
   "cell_type": "code",
   "execution_count": null,
   "id": "1cb8e1c5-b89f-4383-984f-f78063edb2ab",
   "metadata": {},
   "outputs": [],
   "source": [
    "# Confusion Matrix\n",
    "cm = confusion_matrix(val_labels, predicted_labels)\n",
    "cm_display = ConfusionMatrixDisplay(confusion_matrix=cm, display_labels=val_data.class_indices)\n",
    "cm_display.plot(cmap='Blues')\n",
    "plt.title(\"Confusion Matrix\")\n",
    "plt.show()\n"
   ]
  },
  {
   "cell_type": "code",
   "execution_count": null,
   "id": "7e2b651f-e28e-4fa5-a501-64e7627afbaa",
   "metadata": {},
   "outputs": [],
   "source": [
    "# Classification Report\n",
    "report = classification_report(val_labels, predicted_labels, target_names=val_data.class_indices)\n",
    "print(\"Classification Report:\\n\", report)\n",
    "\n",
    "# Plotting the training history (Accuracy and Loss curves)\n",
    "plt.figure(figsize=(12, 4))\n"
   ]
  },
  {
   "cell_type": "code",
   "execution_count": null,
   "id": "5894bade-be8e-4be2-a661-8bd01fc639b6",
   "metadata": {},
   "outputs": [],
   "source": [
    "# Plot Accuracy\n",
    "plt.subplot(1, 2, 1)\n",
    "plt.plot(history.history['accuracy'], label='Training Accuracy')\n",
    "plt.plot(history.history['val_accuracy'], label='Validation Accuracy')\n",
    "plt.title('Accuracy vs Epochs')\n",
    "plt.xlabel('Epochs')\n",
    "plt.ylabel('Accuracy')\n",
    "plt.legend()\n",
    "\n",
    "# Plot Loss\n",
    "plt.subplot(1, 2, 2)\n",
    "plt.plot(history.history['loss'], label='Training Loss')\n",
    "plt.plot(history.history['val_loss'], label='Validation Loss')\n",
    "plt.title('Loss vs Epochs')\n",
    "plt.xlabel('Epochs')\n",
    "plt.ylabel('Loss')\n",
    "plt.legend()\n",
    "\n",
    "plt.show()\n"
   ]
  },
  {
   "cell_type": "code",
   "execution_count": null,
   "id": "83578720-5a39-4a85-a7b3-8f03922812e2",
   "metadata": {},
   "outputs": [],
   "source": [
    "import seaborn as sns\n",
    "import pandas as pd\n",
    "\n",
    "# Get predictions on the validation dataset\n",
    "val_predictions = model.predict(val_data, batch_size=32)\n",
    "val_pred_labels = np.argmax(val_predictions, axis=1)\n",
    "\n",
    "# Get true labels\n",
    "val_true_labels = val_data.classes\n",
    "\n",
    "# Compute confusion matrix\n",
    "conf_matrix = confusion_matrix(val_true_labels, val_pred_labels)\n",
    "\n",
    "# Convert confusion matrix to DataFrame for better visualization\n",
    "conf_matrix_df = pd.DataFrame(conf_matrix, index=[str(i) for i in range(conf_matrix.shape[0])],\n",
    "                               columns=[str(i) for i in range(conf_matrix.shape[1])])\n",
    "\n",
    "# Plot confusion matrix using seaborn heatmap\n",
    "plt.figure(figsize=(8, 6))\n",
    "sns.heatmap(conf_matrix_df, annot=True, fmt='d', cmap='Blues', cbar=False, \n",
    "            xticklabels=conf_matrix_df.columns, yticklabels=conf_matrix_df.index)\n",
    "plt.title('Confusion Matrix')\n",
    "plt.xlabel('Predicted Label')\n",
    "plt.ylabel('True Label')\n",
    "plt.show()\n"
   ]
  },
  {
   "cell_type": "code",
   "execution_count": null,
   "id": "f6c16e6c-a2ae-468c-b86b-be146897d2ce",
   "metadata": {},
   "outputs": [],
   "source": []
  }
 ],
 "metadata": {
  "kernelspec": {
   "display_name": "Python 3 (ipykernel)",
   "language": "python",
   "name": "python3"
  },
  "language_info": {
   "codemirror_mode": {
    "name": "ipython",
    "version": 3
   },
   "file_extension": ".py",
   "mimetype": "text/x-python",
   "name": "python",
   "nbconvert_exporter": "python",
   "pygments_lexer": "ipython3",
   "version": "3.11.4"
  }
 },
 "nbformat": 4,
 "nbformat_minor": 5
}
